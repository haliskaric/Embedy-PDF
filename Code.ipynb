{
 "cells": [
  {
   "cell_type": "code",
   "execution_count": null,
   "id": "9a97ef64",
   "metadata": {},
   "outputs": [],
   "source": [
    "import os\n",
    "import PyPDF2\n",
    "import extract_msg\n",
    "from shutil import copy\n",
    "from extract_msg.exceptions import InvalidFileFormatError\n",
    "\n",
    "#set time to us central\n",
    "os.environ['TZ'] = 'US/Central'\n",
    "\n",
    "def get_last_3_parts(file_path):\n",
    "    return \"/\".join(file_path.split(os.path.sep)[-4:])\n",
    "\n",
    "def getAttachments(reader):\n",
    "    #initialize empty dict to store extracted document names and data:\n",
    "    attachments = {}\n",
    "    #Pdf catalog fetch, high level metadata\n",
    "    catalog = reader.trailer[\"/Root\"]\n",
    "    if \"/Names\" in catalog:\n",
    "        if \"/EmbeddedFiles\" in catalog[\"/Names\"]:\n",
    "            fileNames = catalog['/Names']['/EmbeddedFiles']['/Names']\n",
    "            for f in fileNames:\n",
    "                if isinstance(f, str):\n",
    "                    name = f\n",
    "                    dataIndex = fileNames.index(f) + 1\n",
    "                    fDict = fileNames[dataIndex].get_object()\n",
    "                    if \"/EF\" in fDict:\n",
    "                        fData = fDict[\"/EF\"][\"/F\"].get_data()\n",
    "                        attachments[name] = fData\n",
    "                    elif \"/F\" in fDict:\n",
    "                        embedded_file = PyPDF2.PdfReader(fDict['F'].getData())\n",
    "                        embedded_attachments = getAttachments(embedded_file)\n",
    "                        attachments.update(embedded_attachments)\n",
    "\n",
    "        for pagenum in range(0, len(reader.pages)):\n",
    "            page_object = reader.pages[pagenum]\n",
    "            if \"/Annots\" in page_object:\n",
    "                for annot in page_object['/Annots']:\n",
    "                    annotobj = annot.get_object()\n",
    "                    if annotobj['/Subtype'] == '/FileAttachment':\n",
    "                        fileobj = annotobj[\"/FS\"]\n",
    "                        if \"/EF\" in fileobj:\n",
    "                            attachments[fileobj[\"/F\"]] = fileobj[\"/EF\"][\"/F\"].get_data()\n",
    "                        elif \"/F\" in fileobj:\n",
    "                            embedded_file = PyPDF2.PdfReader(fileobj[\"/\"]).get_data()\n",
    "                            embedded_attachments = getAttachments(embedded_file)\n",
    "                            attachments.update(embedded_attachments)\n",
    "    return attachments\n",
    "\n",
    "def extract_attachments(src_folder, dest_folder):\n",
    "    if not os.path.exists(dest_folder):\n",
    "        os.makedirs(dest_folder)\n",
    "\n",
    "    # iterate through all files in the source folder:\n",
    "    for root, dirs, files in os.walk(src_folder):\n",
    "        for file_name in files:\n",
    "            # create the file path and the new folder path for the current file\n",
    "            file_path = os.path.join(root, file_name)\n",
    "            new_folder_name = os.path.splitext(file_name)[0]\n",
    "            new_folder = os.path.join(dest_folder, new_folder_name)\n",
    "\n",
    "            # check if the current file is a PDF file. if so, open it, read the attachments and copy attach to dest folder\n",
    "            try:\n",
    "                if file_name.lower().endswith('.pdf'):\n",
    "                    with open(file_path, 'rb') as pdf_file:\n",
    "                        pdf_reader = PyPDF2.PdfReader(pdf_file)\n",
    "                        attachments = getAttachments(pdf_reader)\n",
    "\n",
    "                        # Copy the PDF file to the new folder\n",
    "                        for attachment_name, attachment_data in attachments.items():\n",
    "                            if not os.path.exists(new_folder):\n",
    "                                os.makedirs(new_folder)\n",
    "\n",
    "                            copy(file_path, new_folder)\n",
    "\n",
    "                            with open(os.path.join(new_folder, attachment_name), 'wb') as f:\n",
    "                                f.write(attachment_data)\n",
    "\n",
    "                elif file_name.lower().endswith('.msg'):\n",
    "                    try:\n",
    "                        msg = extract_msg.Message(file_path)\n",
    "                        msg_attachments = msg.attachments\n",
    "\n",
    "                        # Copy the MSG file to the new folder\n",
    "                        copy(file_path, new_folder)\n",
    "\n",
    "                        for attachment in msg_attachments:\n",
    "                            if not os.path.exists(new_folder):\n",
    "                                os.makedirs(new_folder)\n",
    "\n",
    "                            copy(file_path, new_folder)\n",
    "\n",
    "                            attachment.save(customPath=os.path.join(new_folder, attachment.longFilename))\n",
    "\n",
    "                    except NotImplementedError:\n",
    "                        print(f\"Unsupported Container type in: \\n{get_last_3_parts(file_path)}\")\n",
    "                    except InvalidFileFormatError:\n",
    "                        print(f\"Invalid or Corrupted File in: \\n{get_last_3_parts(file_path)}\")\n",
    "\n",
    "                else:\n",
    "                    print(f\"Skipping unsupported file: {file_name}\")\n",
    "\n",
    "                    # copy other file types to the new folder\n",
    "                    copy(file_path, new_folder)\n",
    "\n",
    "            except FileNotFoundError:\n",
    "                print(f\"Warning: File Not found or inaccessible: \\n{get_last_3_parts(file_path)}\")\n",
    "src_folder =\n",
    "dest_folder =\n",
    "extract_attachments(src_folder, dest_folder)"
   ]
  },
  {
   "cell_type": "code",
   "execution_count": 1,
   "id": "a58ae74e",
   "metadata": {},
   "outputs": [
    {
     "ename": "SyntaxError",
     "evalue": "invalid syntax (2830201818.py, line 1)",
     "output_type": "error",
     "traceback": [
      "\u001b[1;36m  Input \u001b[1;32mIn [1]\u001b[1;36m\u001b[0m\n\u001b[1;33m    git init\u001b[0m\n\u001b[1;37m        ^\u001b[0m\n\u001b[1;31mSyntaxError\u001b[0m\u001b[1;31m:\u001b[0m invalid syntax\n"
     ]
    }
   ],
   "source": []
  },
  {
   "cell_type": "code",
   "execution_count": 2,
   "id": "698f84cb",
   "metadata": {},
   "outputs": [
    {
     "name": "stdout",
     "output_type": "stream",
     "text": [
      "C:\\Users\\halis\n"
     ]
    }
   ],
   "source": [
    "import os\n",
    "print(os.getcwd())\n"
   ]
  },
  {
   "cell_type": "code",
   "execution_count": null,
   "id": "760cd227",
   "metadata": {},
   "outputs": [],
   "source": []
  }
 ],
 "metadata": {
  "kernelspec": {
   "display_name": "Python 3 (ipykernel)",
   "language": "python",
   "name": "python3"
  },
  "language_info": {
   "codemirror_mode": {
    "name": "ipython",
    "version": 3
   },
   "file_extension": ".py",
   "mimetype": "text/x-python",
   "name": "python",
   "nbconvert_exporter": "python",
   "pygments_lexer": "ipython3",
   "version": "3.9.12"
  }
 },
 "nbformat": 4,
 "nbformat_minor": 5
}
